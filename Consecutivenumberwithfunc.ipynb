{
  "nbformat": 4,
  "nbformat_minor": 0,
  "metadata": {
    "colab": {
      "provenance": [],
      "collapsed_sections": [],
      "authorship_tag": "ABX9TyPimX/IAn/4OJnIJXsUHR0u",
      "include_colab_link": true
    },
    "kernelspec": {
      "name": "python3",
      "display_name": "Python 3"
    },
    "language_info": {
      "name": "python"
    }
  },
  "cells": [
    {
      "cell_type": "markdown",
      "metadata": {
        "id": "view-in-github",
        "colab_type": "text"
      },
      "source": [
        "<a href=\"https://colab.research.google.com/github/Sushmitakarchanda/Python-Programming/blob/main/Consecutivenumberwithfunc.ipynb\" target=\"_parent\"><img src=\"https://colab.research.google.com/assets/colab-badge.svg\" alt=\"Open In Colab\"/></a>"
      ]
    },
    {
      "cell_type": "code",
      "execution_count": 1,
      "metadata": {
        "id": "WTEr1XUZI77M"
      },
      "outputs": [],
      "source": [
        "# define function to store the repeated number in a list\n",
        "def fun(li):\n",
        "  new_list=[]\n",
        "  n=len(li)\n",
        "  for i in range(n):\n",
        "    if i < (n-1):\n",
        "      if li[i]==li[i+1]:\n",
        "        if li[i] not in new_list:\n",
        "          new_list.append(li[i])\n",
        "  return new_list"
      ]
    },
    {
      "cell_type": "code",
      "source": [
        "# define function to print the position of the duplicate numbers\n",
        "def p_pos(new_list):\n",
        "  di={}\n",
        "  for i in new_list:\n",
        "    list_out=[]\n",
        "    pos=0\n",
        "    for num in li:\n",
        "      if i==num:\n",
        "        list_out.append(pos)\n",
        "      di[i]=list_out\n",
        "      pos=pos+1\n",
        "  return di"
      ],
      "metadata": {
        "id": "ieZLtKxvI9PY"
      },
      "execution_count": 4,
      "outputs": []
    },
    {
      "cell_type": "code",
      "source": [
        "li=[]\n",
        "num = input('Enter numbers in duplicates in concesutive manner:')\n",
        "print(\"\\n\")\n",
        "li=list(str(num))\n",
        "updated_list=fun(li)\n",
        "print(\"Duplicate integeres List:\",updated_list)\n",
        "result=p_pos(updated_list)\n",
        "print(\"Indexes of the duplicate integers are:\", result)"
      ],
      "metadata": {
        "colab": {
          "base_uri": "https://localhost:8080/"
        },
        "id": "Fj1Ru2K6JAk0",
        "outputId": "815bdcbd-046a-4b2c-b4e5-34874c6b2198"
      },
      "execution_count": 11,
      "outputs": [
        {
          "output_type": "stream",
          "name": "stdout",
          "text": [
            "Enter numbers in duplicates in concesutive manner:12222333455566618889\n",
            "\n",
            "\n",
            "Duplicate integeres List: ['2', '3', '5', '6', '8']\n",
            "Indexes of the duplicate integers are: {'2': [1, 2, 3, 4], '3': [5, 6, 7], '5': [9, 10, 11], '6': [12, 13, 14], '8': [16, 17, 18]}\n"
          ]
        }
      ]
    }
  ]
}