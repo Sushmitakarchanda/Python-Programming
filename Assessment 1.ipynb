{
 "cells": [
  {
   "cell_type": "markdown",
   "id": "b225314f",
   "metadata": {},
   "source": [
    "Print indexes of duplicate consecutive numbers in given list"
   ]
  },
  {
   "cell_type": "code",
   "execution_count": 3,
   "id": "c1f85fb9",
   "metadata": {},
   "outputs": [
    {
     "name": "stdout",
     "output_type": "stream",
     "text": [
      "[2, 5, 6, 9]\n"
     ]
    }
   ],
   "source": [
    "l1 = [1,2,2,2,3,5,5,5,5,6,6,8,9,9]\n",
    "d1={}\n",
    "new_list=[]\n",
    "for i in range(len(l1)):\n",
    "      if i < len(l1)-1:\n",
    "        if l1[i]==l1[i+1]:\n",
    "              if l1[i] not in new_list:\n",
    "                new_list.append(l1[i])\n",
    "print(new_list)\n"
   ]
  },
  {
   "cell_type": "code",
   "execution_count": 4,
   "id": "13deabbf",
   "metadata": {},
   "outputs": [
    {
     "name": "stdout",
     "output_type": "stream",
     "text": [
      "{2: [0, 1, 2], 5: [0, 1, 2, 3], 6: [0, 1], 9: [0, 1]}\n"
     ]
    }
   ],
   "source": [
    "for i in new_list:\n",
    "    list_out=[]\n",
    "    pos=0\n",
    "    for num in l1:\n",
    "        if i==num:\n",
    "            list_out.append(pos)\n",
    "            pos=pos+1\n",
    "            d1[i]=list_out\n",
    "print(d1)"
   ]
  },
  {
   "cell_type": "code",
   "execution_count": null,
   "id": "f073e2a6",
   "metadata": {},
   "outputs": [],
   "source": []
  },
  {
   "cell_type": "code",
   "execution_count": null,
   "id": "bf79403a",
   "metadata": {},
   "outputs": [],
   "source": []
  }
 ],
 "metadata": {
  "kernelspec": {
   "display_name": "Python 3 (ipykernel)",
   "language": "python",
   "name": "python3"
  },
  "language_info": {
   "codemirror_mode": {
    "name": "ipython",
    "version": 3
   },
   "file_extension": ".py",
   "mimetype": "text/x-python",
   "name": "python",
   "nbconvert_exporter": "python",
   "pygments_lexer": "ipython3",
   "version": "3.9.7"
  }
 },
 "nbformat": 4,
 "nbformat_minor": 5
}
