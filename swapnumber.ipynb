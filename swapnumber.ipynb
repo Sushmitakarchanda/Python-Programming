{
  "nbformat": 4,
  "nbformat_minor": 0,
  "metadata": {
    "colab": {
      "provenance": [],
      "collapsed_sections": [],
      "include_colab_link": true
    },
    "kernelspec": {
      "name": "python3",
      "display_name": "Python 3"
    },
    "language_info": {
      "name": "python"
    }
  },
  "cells": [
    {
      "cell_type": "markdown",
      "metadata": {
        "id": "view-in-github",
        "colab_type": "text"
      },
      "source": [
        "<a href=\"https://colab.research.google.com/github/Sushmitakarchanda/Python-Programming/blob/main/swapnumber.ipynb\" target=\"_parent\"><img src=\"https://colab.research.google.com/assets/colab-badge.svg\" alt=\"Open In Colab\"/></a>"
      ]
    },
    {
      "cell_type": "code",
      "source": [
        "def swapnumber(L):\n",
        "    for i in range(0,len(L)-1,2):\n",
        "        L[i],L[i+1]=L[i+1],L[i]\n",
        "    return(L)\n",
        "    \n",
        "num=int(input(\"Enter the number:\"))\n",
        "strnum=str(num)\n",
        "numlist=[]\n",
        "for num in strnum:\n",
        "  numlist.append(num)\n",
        "res=swapnumber(numlist)\n",
        "result=[eval(i) for i in res]\n",
        "def convert(result):\n",
        "    # Converting integer list to string list\n",
        "    s = [str(i) for i in result]\n",
        "    # Join list items using join()\n",
        "    res = int(\"\".join(s))     \n",
        "    return(res)\n",
        "print(convert(result))"
      ],
      "metadata": {
        "id": "GRnhcq05yZ7k",
        "colab": {
          "base_uri": "https://localhost:8080/"
        },
        "outputId": "ddc09c7c-28eb-42c4-960c-91231ddda1f6"
      },
      "execution_count": 1,
      "outputs": [
        {
          "output_type": "stream",
          "name": "stdout",
          "text": [
            "Enter the number:1234567\n",
            "2143657\n"
          ]
        }
      ]
    },
    {
      "cell_type": "code",
      "source": [
        "\n",
        "# # creating an empty list\n",
        "# lst = []\n",
        "# # number of elements as input\n",
        "# n = int(input(\"How many number of elements do you want in the list odd/even : \"))\n",
        "# # iterating till the range\n",
        "# for i in range(0, n):\n",
        "#     ele = int(input())\n",
        "#     lst.append(ele) # adding the element     \n",
        "# print(\"Original numbers in the list are:\",lst)\n",
        "# swapnumber(lst)"
      ],
      "metadata": {
        "id": "EozQMnAxfyWw"
      },
      "execution_count": null,
      "outputs": []
    }
  ]
}