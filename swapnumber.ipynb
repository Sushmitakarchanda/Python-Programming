{
  "nbformat": 4,
  "nbformat_minor": 0,
  "metadata": {
    "colab": {
      "provenance": [],
      "collapsed_sections": [],
      "include_colab_link": true
    },
    "kernelspec": {
      "name": "python3",
      "display_name": "Python 3"
    },
    "language_info": {
      "name": "python"
    }
  },
  "cells": [
    {
      "cell_type": "markdown",
      "metadata": {
        "id": "view-in-github",
        "colab_type": "text"
      },
      "source": [
        "<a href=\"https://colab.research.google.com/github/Sushmitakarchanda/Python-Programming/blob/main/swapnumber.ipynb\" target=\"_parent\"><img src=\"https://colab.research.google.com/assets/colab-badge.svg\" alt=\"Open In Colab\"/></a>"
      ]
    },
    {
      "cell_type": "code",
      "source": [
        "def swapnumber(L):\n",
        "    for i in range(0,len(L)-1,2):\n",
        "        L[i],L[i+1]=L[i+1],L[i]\n",
        "    print(L)\n",
        "# creating an empty list\n",
        "lst = []\n",
        "  \n",
        "# number of elements as input\n",
        "n = int(input(\"Enter number of elements : \"))\n",
        "  \n",
        "# iterating till the range\n",
        "for i in range(0, n):\n",
        "    ele = int(input())\n",
        "  \n",
        "    lst.append(ele) # adding the element\n",
        "      \n",
        "print(lst)\n",
        "swapnumber(lst)\n",
        "\n",
        "\n"
      ],
      "metadata": {
        "colab": {
          "base_uri": "https://localhost:8080/"
        },
        "id": "4x3gdA1wABo6",
        "outputId": "82d3b45e-5484-4ee4-8066-3179d35cc3a7"
      },
      "execution_count": 39,
      "outputs": [
        {
          "output_type": "stream",
          "name": "stdout",
          "text": [
            "Enter number of elements : 9\n",
            "1\n",
            "2\n",
            "3\n",
            "4\n",
            "5\n",
            "66\n",
            "7\n",
            "8\n",
            "9\n",
            "[1, 2, 3, 4, 5, 66, 7, 8, 9]\n",
            "[2, 1, 4, 3, 66, 5, 8, 7, 9]\n"
          ]
        }
      ]
    }
  ]
}